{
  "nbformat": 4,
  "nbformat_minor": 0,
  "metadata": {
    "colab": {
      "provenance": [],
      "authorship_tag": "ABX9TyMFhUPn/NH0BKZBnp87NM1y",
      "include_colab_link": true
    },
    "kernelspec": {
      "name": "python3",
      "display_name": "Python 3"
    },
    "language_info": {
      "name": "python"
    }
  },
  "cells": [
    {
      "cell_type": "markdown",
      "metadata": {
        "id": "view-in-github",
        "colab_type": "text"
      },
      "source": [
        "<a href=\"https://colab.research.google.com/github/brayla-oya/ddds-c18/blob/main/1a_Markdown_About_Me_Exercise.ipynb\" target=\"_parent\"><img src=\"https://colab.research.google.com/assets/colab-badge.svg\" alt=\"Open In Colab\"/></a>"
      ]
    },
    {
      "cell_type": "markdown",
      "source": [
        "# **About Me**\n",
        "Bray'e. Pronounced like Bray.\n",
        "## She/Her\n",
        "1. I signed up for the class for a career change. I have been in the medical field for almost 13 years and am ready for a change.\n",
        "2. I would pick the head of a gorilla.\n",
        "3. I would keep *Spotify*, *Messages* & *Marvel Snap*.\n",
        "4. My favorite podcast is `Cult Podcast.`\n",
        "5. I enjoy watching Tennis. I will mess up my sleep schedule to watch the Australian Open & French Open.\n",
        "\n",
        "Favorite Female Tennis Player | Favorite Male Tennis Player\n",
        "--- | ---\n",
        "[Serena Williams](https://www.wtatennis.com/players/230234/serena-williams) | [Rafael Nadal](https://www.atptour.com/en/players/rafael-nadal/n409/overview)\n",
        "\n",
        "\n",
        "\n",
        "6. When I was born, I weighed 1lb 13oz & was 2 1/2 months premature. I collect  [Johnny Cupcakes](https://www.johnnycupcakes.com) t-shirts and have 200 t-shirts. I am a huge Mortal Kombat fan and have a tattoo dedicated to it on my back.\n",
        "\n",
        "![Liu Kang](https://hillswestroundup.com/wp-content/uploads/2023/10/mortal-kombat-1.jpg)"
      ],
      "metadata": {
        "id": "NYGEyyTfADdg"
      }
    },
    {
      "cell_type": "code",
      "source": [],
      "metadata": {
        "id": "0ruG8dJ7Jdv-"
      },
      "execution_count": null,
      "outputs": []
    }
  ]
}